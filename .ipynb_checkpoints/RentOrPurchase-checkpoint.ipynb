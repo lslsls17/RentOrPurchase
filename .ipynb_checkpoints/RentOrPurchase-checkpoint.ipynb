{
 "cells": [
  {
   "cell_type": "markdown",
   "metadata": {},
   "source": [
    "## Rent or Loan"
   ]
  },
  {
   "cell_type": "code",
   "execution_count": 85,
   "metadata": {},
   "outputs": [],
   "source": [
    "import numpy as np"
   ]
  },
  {
   "cell_type": "markdown",
   "metadata": {},
   "source": [
    "downPayment = 0.2\n",
    "homePrice = 1000000\n",
    "monthlyRent = 4000\n",
    "investmentReturn = 0.015\n",
    "propertyTax = 0.016\n",
    "interestRate = 0.015\n",
    "inflationRate = 0.015\n",
    "timeHorizon = 30\n",
    "loanInterest = 0.03\n",
    "HOA = 900"
   ]
  },
  {
   "cell_type": "markdown",
   "metadata": {},
   "source": [
    "Home Price"
   ]
  },
  {
   "cell_type": "code",
   "execution_count": 14,
   "metadata": {},
   "outputs": [],
   "source": [
    "homePriceT = homePrice*np.exp((inflationRate-interestRate)*timeHorizon)"
   ]
  },
  {
   "cell_type": "markdown",
   "metadata": {},
   "source": [
    "Total Payment"
   ]
  },
  {
   "cell_type": "code",
   "execution_count": 60,
   "metadata": {},
   "outputs": [],
   "source": [
    "monthlyInterestRate = np.exp(interestRate/12)-1\n",
    "monthlyLoanPayment = homePrice*(1-downPayment)*(monthlyInterestRate*(1 + monthlyInterestRate)**(timeHorizon*12)) / ((1 + monthlyInterestRate)**(timeHorizon*12) - 1)"
   ]
  },
  {
   "cell_type": "code",
   "execution_count": 66,
   "metadata": {},
   "outputs": [],
   "source": [
    "totalMonthlyPayment = HOA + monthlyLoanPayment + propertyTax*homePrice/12"
   ]
  },
  {
   "cell_type": "code",
   "execution_count": 74,
   "metadata": {},
   "outputs": [],
   "source": [
    "totalPayment = 0\n",
    "for t in range(timeHorizon):\n",
    "    totalPayment += -totalMonthlyPayment*np.exp((inflationRate-interestRate)*(t+1))*12"
   ]
  },
  {
   "cell_type": "code",
   "execution_count": 75,
   "metadata": {},
   "outputs": [],
   "source": [
    "totalBalanceLoan = homePriceT + totalPayment"
   ]
  },
  {
   "cell_type": "code",
   "execution_count": 78,
   "metadata": {},
   "outputs": [
    {
     "data": {
      "text/plain": [
       "-798075.8240229564"
      ]
     },
     "execution_count": 78,
     "metadata": {},
     "output_type": "execute_result"
    }
   ],
   "source": [
    "totalBalanceLoan"
   ]
  },
  {
   "cell_type": "markdown",
   "metadata": {},
   "source": [
    "Total Rent Paid"
   ]
  },
  {
   "cell_type": "code",
   "execution_count": 80,
   "metadata": {},
   "outputs": [],
   "source": [
    "totalRent = 0\n",
    "for t in range(timeHorizon):\n",
    "    totalRent += -monthlyRent*np.exp((inflationRate-interestRate)*(t+1))*12."
   ]
  },
  {
   "cell_type": "markdown",
   "metadata": {},
   "source": [
    "Total Investment get"
   ]
  },
  {
   "cell_type": "code",
   "execution_count": 81,
   "metadata": {},
   "outputs": [],
   "source": [
    "totalInvest = downPayment*homePrice*np.exp((investmentReturn-interestRate)*timeHorizon)"
   ]
  },
  {
   "cell_type": "code",
   "execution_count": 82,
   "metadata": {},
   "outputs": [],
   "source": [
    "totalBalanceRent = totalInvest + totalRent"
   ]
  },
  {
   "cell_type": "code",
   "execution_count": 83,
   "metadata": {},
   "outputs": [
    {
     "data": {
      "text/plain": [
       "-1240000.0"
      ]
     },
     "execution_count": 83,
     "metadata": {},
     "output_type": "execute_result"
    }
   ],
   "source": [
    "totalBalanceRent"
   ]
  },
  {
   "cell_type": "code",
   "execution_count": 88,
   "metadata": {},
   "outputs": [],
   "source": [
    "returnLoanToRent = np.log((totalBalanceLoan - totalRent)/(downPayment*homePrice))/timeHorizon"
   ]
  },
  {
   "cell_type": "code",
   "execution_count": 89,
   "metadata": {},
   "outputs": [
    {
     "data": {
      "text/plain": [
       "0.03887176080707021"
      ]
     },
     "execution_count": 89,
     "metadata": {},
     "output_type": "execute_result"
    }
   ],
   "source": [
    "returnLoanToRent"
   ]
  }
 ],
 "metadata": {
  "kernelspec": {
   "display_name": "Python 3",
   "language": "python",
   "name": "python3"
  },
  "language_info": {
   "codemirror_mode": {
    "name": "ipython",
    "version": 3
   },
   "file_extension": ".py",
   "mimetype": "text/x-python",
   "name": "python",
   "nbconvert_exporter": "python",
   "pygments_lexer": "ipython3",
   "version": "3.7.6"
  }
 },
 "nbformat": 4,
 "nbformat_minor": 4
}
